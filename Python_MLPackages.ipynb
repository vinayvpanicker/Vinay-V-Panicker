{
  "nbformat": 4,
  "nbformat_minor": 0,
  "metadata": {
    "colab": {
      "name": "Python_MLPackages.ipynb",
      "provenance": [],
      "collapsed_sections": [
        "OUSFHqqFwUbi",
        "tRU371C6hzfQ",
        "63iHONtXmyYj",
        "sDy7Ik8AsJyQ",
        "NlWRCyOVaOvY",
        "imIPBN1g-XPm",
        "eQxVfzWJ3wQx",
        "k8jxITq43ZV2"
      ],
      "include_colab_link": true
    },
    "kernelspec": {
      "name": "python3",
      "display_name": "Python 3"
    }
  },
  "cells": [
    {
      "cell_type": "markdown",
      "metadata": {
        "id": "view-in-github",
        "colab_type": "text"
      },
      "source": [
        "<a href=\"https://colab.research.google.com/github/vinayvpanicker/Vinay-V-Panicker/blob/master/Python_MLPackages.ipynb\" target=\"_parent\"><img src=\"https://colab.research.google.com/assets/colab-badge.svg\" alt=\"Open In Colab\"/></a>"
      ]
    },
    {
      "cell_type": "markdown",
      "metadata": {
        "id": "-laJ5sPiCWsO"
      },
      "source": [
        "#NumPy"
      ]
    },
    {
      "cell_type": "code",
      "metadata": {
        "id": "PCVIwttPCchf"
      },
      "source": [
        "import numpy as np"
      ],
      "execution_count": 1,
      "outputs": []
    },
    {
      "cell_type": "code",
      "metadata": {
        "id": "MbIrSUEzCpLw",
        "colab": {
          "base_uri": "https://localhost:8080/"
        },
        "outputId": "84465613-b44b-4f87-f8ed-c3c81a3240a8"
      },
      "source": [
        "a = np.array([0,1,2])\n",
        "print([0,1,2], type([0,1,2]))\n",
        "print ('Array a has value = {} and type = {}, shape = {}'.format(a, type(a), a.shape))"
      ],
      "execution_count": 2,
      "outputs": [
        {
          "output_type": "stream",
          "text": [
            "[0, 1, 2] <class 'list'>\n",
            "Array a has value = [0 1 2] and type = <class 'numpy.ndarray'>, shape = (3,)\n"
          ],
          "name": "stdout"
        }
      ]
    },
    {
      "cell_type": "code",
      "metadata": {
        "id": "6T7WvfYyC75_",
        "colab": {
          "base_uri": "https://localhost:8080/"
        },
        "outputId": "9eb10c22-ab25-4321-b6ac-5a4fe427e760"
      },
      "source": [
        "b = np.array([[0,1,2], [3,4,5]])\n",
        "print ('Array b has value = \\n{}\\n and type = {}'.format(b, type(b)))\n",
        "print(b.shape)\n",
        "print(b[0,0], b[0,1], b[0,2])\n",
        "print(b[1,0], b[1,1], b[1,2])\n",
        "print(type(b[:,1]))"
      ],
      "execution_count": 3,
      "outputs": [
        {
          "output_type": "stream",
          "text": [
            "Array b has value = \n",
            "[[0 1 2]\n",
            " [3 4 5]]\n",
            " and type = <class 'numpy.ndarray'>\n",
            "(2, 3)\n",
            "0 1 2\n",
            "3 4 5\n",
            "<class 'numpy.ndarray'>\n"
          ],
          "name": "stdout"
        }
      ]
    },
    {
      "cell_type": "code",
      "metadata": {
        "id": "KlLc8LCgDpxx",
        "colab": {
          "base_uri": "https://localhost:8080/"
        },
        "outputId": "c90cc03f-4c65-47ec-fc7c-aa223908da4b"
      },
      "source": [
        "a = np.ones((3,4))\n",
        "print(a)\n",
        "print(a[0,0])"
      ],
      "execution_count": 4,
      "outputs": [
        {
          "output_type": "stream",
          "text": [
            "[[1. 1. 1. 1.]\n",
            " [1. 1. 1. 1.]\n",
            " [1. 1. 1. 1.]]\n",
            "1.0\n"
          ],
          "name": "stdout"
        }
      ]
    },
    {
      "cell_type": "code",
      "metadata": {
        "id": "tykAVMnOAxva",
        "colab": {
          "base_uri": "https://localhost:8080/"
        },
        "outputId": "e4255202-f865-422a-cefd-c07de6d96c97"
      },
      "source": [
        "e = np.eye(5, dtype=int )\n",
        "print(e, e.shape)"
      ],
      "execution_count": 5,
      "outputs": [
        {
          "output_type": "stream",
          "text": [
            "[[1 0 0 0 0]\n",
            " [0 1 0 0 0]\n",
            " [0 0 1 0 0]\n",
            " [0 0 0 1 0]\n",
            " [0 0 0 0 1]] (5, 5)\n"
          ],
          "name": "stdout"
        }
      ]
    },
    {
      "cell_type": "code",
      "metadata": {
        "id": "0RkClfM_BBaf",
        "colab": {
          "base_uri": "https://localhost:8080/"
        },
        "outputId": "0cf417ba-1d45-462d-e431-7420ccc26144"
      },
      "source": [
        "h = np.array(([0, 1, 2.0], [1 + 2j, 5, 0.2], (0, 1, 0)))\n",
        "print(h)\n",
        "print(type(h))"
      ],
      "execution_count": 6,
      "outputs": [
        {
          "output_type": "stream",
          "text": [
            "[[0. +0.j 1. +0.j 2. +0.j]\n",
            " [1. +2.j 5. +0.j 0.2+0.j]\n",
            " [0. +0.j 1. +0.j 0. +0.j]]\n",
            "<class 'numpy.ndarray'>\n"
          ],
          "name": "stdout"
        }
      ]
    },
    {
      "cell_type": "code",
      "metadata": {
        "id": "blHLYQdrCuWV",
        "colab": {
          "base_uri": "https://localhost:8080/"
        },
        "outputId": "e16f4c18-d087-4f2e-be98-d52bb885f5be"
      },
      "source": [
        "j = np.linspace(2.0, 4.0, 12)\n",
        "print(j)\n",
        "print(j.shape)"
      ],
      "execution_count": 7,
      "outputs": [
        {
          "output_type": "stream",
          "text": [
            "[2.         2.18181818 2.36363636 2.54545455 2.72727273 2.90909091\n",
            " 3.09090909 3.27272727 3.45454545 3.63636364 3.81818182 4.        ]\n",
            "(12,)\n"
          ],
          "name": "stdout"
        }
      ]
    },
    {
      "cell_type": "code",
      "metadata": {
        "id": "aSq3d9G4DAYy",
        "colab": {
          "base_uri": "https://localhost:8080/"
        },
        "outputId": "724ffc18-5332-498d-9d0b-fb6ac2bbc44a"
      },
      "source": [
        "jj = j.reshape(3,4)\n",
        "print(jj)\n",
        "print(jj.shape)"
      ],
      "execution_count": 8,
      "outputs": [
        {
          "output_type": "stream",
          "text": [
            "[[2.         2.18181818 2.36363636 2.54545455]\n",
            " [2.72727273 2.90909091 3.09090909 3.27272727]\n",
            " [3.45454545 3.63636364 3.81818182 4.        ]]\n",
            "(3, 4)\n"
          ],
          "name": "stdout"
        }
      ]
    },
    {
      "cell_type": "code",
      "metadata": {
        "id": "Fh_YAt7zBqsW",
        "colab": {
          "base_uri": "https://localhost:8080/"
        },
        "outputId": "f4d1fbd0-c0ed-4b3b-c74b-140727452a24"
      },
      "source": [
        "k = np.indices((4,3))\n",
        "print(k)\n",
        "print(k.shape)"
      ],
      "execution_count": 9,
      "outputs": [
        {
          "output_type": "stream",
          "text": [
            "[[[0 0 0]\n",
            "  [1 1 1]\n",
            "  [2 2 2]\n",
            "  [3 3 3]]\n",
            "\n",
            " [[0 1 2]\n",
            "  [0 1 2]\n",
            "  [0 1 2]\n",
            "  [0 1 2]]]\n",
            "(2, 4, 3)\n"
          ],
          "name": "stdout"
        }
      ]
    },
    {
      "cell_type": "code",
      "metadata": {
        "id": "jE2SCSnWDfTD",
        "colab": {
          "base_uri": "https://localhost:8080/"
        },
        "outputId": "45de1dfb-ea26-4bd1-ff42-7eee6781c040"
      },
      "source": [
        "x = np.arange(4,20, 2)\n",
        "print(x)"
      ],
      "execution_count": 10,
      "outputs": [
        {
          "output_type": "stream",
          "text": [
            "[ 4  6  8 10 12 14 16 18]\n"
          ],
          "name": "stdout"
        }
      ]
    },
    {
      "cell_type": "code",
      "metadata": {
        "id": "0kRz_KrSCb7i",
        "colab": {
          "base_uri": "https://localhost:8080/"
        },
        "outputId": "76c44a6f-92af-42a0-c16b-189b725ba6f1"
      },
      "source": [
        "x = np.arange(20).reshape(5, 4)\n",
        "print(x)\n",
        "row, col = np.indices((2, 3))\n",
        "print(x[row, col])\n"
      ],
      "execution_count": 11,
      "outputs": [
        {
          "output_type": "stream",
          "text": [
            "[[ 0  1  2  3]\n",
            " [ 4  5  6  7]\n",
            " [ 8  9 10 11]\n",
            " [12 13 14 15]\n",
            " [16 17 18 19]]\n",
            "[[0 1 2]\n",
            " [4 5 6]]\n"
          ],
          "name": "stdout"
        }
      ]
    },
    {
      "cell_type": "code",
      "metadata": {
        "id": "14AS5IR6IlMl",
        "colab": {
          "base_uri": "https://localhost:8080/"
        },
        "outputId": "d439948c-27bd-4f46-faaa-daf93dee3200"
      },
      "source": [
        "y = np.array([[[1],[2],[3]], [[4],[5],[6]]])\n",
        "print('y = {}\\n Shape of y = {}\\n y[1:3] = {}\\n y[1:3].shape = {}'.format(y, \n",
        "                                                                          y.shape, \n",
        "                                                                          y[1:3], \n",
        "                                                                          y[1:3].shape))"
      ],
      "execution_count": 12,
      "outputs": [
        {
          "output_type": "stream",
          "text": [
            "y = [[[1]\n",
            "  [2]\n",
            "  [3]]\n",
            "\n",
            " [[4]\n",
            "  [5]\n",
            "  [6]]]\n",
            " Shape of y = (2, 3, 1)\n",
            " y[1:3] = [[[4]\n",
            "  [5]\n",
            "  [6]]]\n",
            " y[1:3].shape = (1, 3, 1)\n"
          ],
          "name": "stdout"
        }
      ]
    },
    {
      "cell_type": "code",
      "metadata": {
        "id": "bdw-FCHTKqBF",
        "colab": {
          "base_uri": "https://localhost:8080/"
        },
        "outputId": "e5ab2b19-e3ba-4ac4-c86f-d04e7d7a2de8"
      },
      "source": [
        "a = np.array([[1,2,4], [3,6,9], [5,10,15]])\n",
        "print(np.array([a[0,0], a[1,1], a[2,1]]))\n",
        "print(a[[0,1,2],[0,1,1]], a[[0,1,2],[0,1,1]].shape)"
      ],
      "execution_count": 13,
      "outputs": [
        {
          "output_type": "stream",
          "text": [
            "[ 1  6 10]\n",
            "[ 1  6 10] (3,)\n"
          ],
          "name": "stdout"
        }
      ]
    },
    {
      "cell_type": "code",
      "metadata": {
        "id": "hsSGGaSaNosA",
        "colab": {
          "base_uri": "https://localhost:8080/"
        },
        "outputId": "192ee354-2412-4706-b46c-048345e9b449"
      },
      "source": [
        "print(a)\n",
        "print(a == 5)"
      ],
      "execution_count": 14,
      "outputs": [
        {
          "output_type": "stream",
          "text": [
            "[[ 1  2  4]\n",
            " [ 3  6  9]\n",
            " [ 5 10 15]]\n",
            "[[False False False]\n",
            " [False False False]\n",
            " [ True False False]]\n"
          ],
          "name": "stdout"
        }
      ]
    },
    {
      "cell_type": "code",
      "metadata": {
        "id": "VvAJc9VONvJ4",
        "colab": {
          "base_uri": "https://localhost:8080/"
        },
        "outputId": "175cbeb5-f972-41f3-a260-fbb89e60f59a"
      },
      "source": [
        "print(a[a>5])\n",
        "b = np.array([[1,4,16], [3, 12, 52], [21, 9, 10]])\n",
        "print(a[a%3 == 0], '\\n', b[a%3 == 0])"
      ],
      "execution_count": 15,
      "outputs": [
        {
          "output_type": "stream",
          "text": [
            "[ 6  9 10 15]\n",
            "[ 3  6  9 15] \n",
            " [ 3 12 52 10]\n"
          ],
          "name": "stdout"
        }
      ]
    },
    {
      "cell_type": "code",
      "metadata": {
        "id": "_4xkQo4mP0uw"
      },
      "source": [
        "x = np.array([[1,2], [3,4]])\n",
        "y = np.array([[3,6], [4,8]])\n",
        "a = np.array([2,8])\n",
        "b = np.array([3,27])\n",
        "print(x.dot(y))\n",
        "print(np.dot(a,b))\n",
        "print(np.dot(x,y))"
      ],
      "execution_count": null,
      "outputs": []
    },
    {
      "cell_type": "code",
      "metadata": {
        "id": "L6ujQ9EtQwLn",
        "colab": {
          "base_uri": "https://localhost:8080/",
          "height": 469
        },
        "outputId": "ed49a0a7-79ae-4199-9d01-535b1e225805"
      },
      "source": [
        "a = np.array([2,8])\n",
        "print(x, y, a, sep='\\n', end='\\n\\n')\n",
        "print(a+x)\n",
        "#print(x*5)\n",
        "#print(x+y)"
      ],
      "execution_count": 18,
      "outputs": [
        {
          "output_type": "stream",
          "text": [
            "[[ 0  1  2  3]\n",
            " [ 4  5  6  7]\n",
            " [ 8  9 10 11]\n",
            " [12 13 14 15]\n",
            " [16 17 18 19]]\n",
            "[[[1]\n",
            "  [2]\n",
            "  [3]]\n",
            "\n",
            " [[4]\n",
            "  [5]\n",
            "  [6]]]\n",
            "[2 8]\n",
            "\n"
          ],
          "name": "stdout"
        },
        {
          "output_type": "error",
          "ename": "ValueError",
          "evalue": "ignored",
          "traceback": [
            "\u001b[0;31m---------------------------------------------------------------------------\u001b[0m",
            "\u001b[0;31mValueError\u001b[0m                                Traceback (most recent call last)",
            "\u001b[0;32m<ipython-input-18-8b9d33b2b15b>\u001b[0m in \u001b[0;36m<module>\u001b[0;34m()\u001b[0m\n\u001b[1;32m      1\u001b[0m \u001b[0ma\u001b[0m \u001b[0;34m=\u001b[0m \u001b[0mnp\u001b[0m\u001b[0;34m.\u001b[0m\u001b[0marray\u001b[0m\u001b[0;34m(\u001b[0m\u001b[0;34m[\u001b[0m\u001b[0;36m2\u001b[0m\u001b[0;34m,\u001b[0m\u001b[0;36m8\u001b[0m\u001b[0;34m]\u001b[0m\u001b[0;34m)\u001b[0m\u001b[0;34m\u001b[0m\u001b[0;34m\u001b[0m\u001b[0m\n\u001b[1;32m      2\u001b[0m \u001b[0mprint\u001b[0m\u001b[0;34m(\u001b[0m\u001b[0mx\u001b[0m\u001b[0;34m,\u001b[0m \u001b[0my\u001b[0m\u001b[0;34m,\u001b[0m \u001b[0ma\u001b[0m\u001b[0;34m,\u001b[0m \u001b[0msep\u001b[0m\u001b[0;34m=\u001b[0m\u001b[0;34m'\\n'\u001b[0m\u001b[0;34m,\u001b[0m \u001b[0mend\u001b[0m\u001b[0;34m=\u001b[0m\u001b[0;34m'\\n\\n'\u001b[0m\u001b[0;34m)\u001b[0m\u001b[0;34m\u001b[0m\u001b[0;34m\u001b[0m\u001b[0m\n\u001b[0;32m----> 3\u001b[0;31m \u001b[0mprint\u001b[0m\u001b[0;34m(\u001b[0m\u001b[0ma\u001b[0m\u001b[0;34m+\u001b[0m\u001b[0mx\u001b[0m\u001b[0;34m)\u001b[0m\u001b[0;34m\u001b[0m\u001b[0;34m\u001b[0m\u001b[0m\n\u001b[0m\u001b[1;32m      4\u001b[0m \u001b[0;31m#print(x*5)\u001b[0m\u001b[0;34m\u001b[0m\u001b[0;34m\u001b[0m\u001b[0;34m\u001b[0m\u001b[0m\n\u001b[1;32m      5\u001b[0m \u001b[0;31m#print(x+y)\u001b[0m\u001b[0;34m\u001b[0m\u001b[0;34m\u001b[0m\u001b[0;34m\u001b[0m\u001b[0m\n",
            "\u001b[0;31mValueError\u001b[0m: operands could not be broadcast together with shapes (2,) (5,4) "
          ]
        }
      ]
    },
    {
      "cell_type": "code",
      "metadata": {
        "id": "qLH00aXyRWeb",
        "colab": {
          "base_uri": "https://localhost:8080/"
        },
        "outputId": "ab2d4216-f7f6-4dc2-87e4-140054e6454a"
      },
      "source": [
        "a = np.array([[1,1,1], [2,4,6], [3,6,9]])\n",
        "v = np.array([1, 0, 1]).reshape(3,1)\n",
        "b = np.empty_like(a)\n",
        "print(a)\n",
        "#for i in range(3):\n",
        "#    b[i, :] = a[i, :] + v\n",
        "#print (b)\n",
        "print(a+v)\n",
        "print(v.shape)"
      ],
      "execution_count": 16,
      "outputs": [
        {
          "output_type": "stream",
          "text": [
            "[[1 1 1]\n",
            " [2 4 6]\n",
            " [3 6 9]]\n",
            "[[ 2  2  2]\n",
            " [ 2  4  6]\n",
            " [ 4  7 10]]\n",
            "(3, 1)\n"
          ],
          "name": "stdout"
        }
      ]
    },
    {
      "cell_type": "code",
      "metadata": {
        "id": "c_Y4_VxtF28i",
        "colab": {
          "base_uri": "https://localhost:8080/"
        },
        "outputId": "9c7ba440-0d0b-4b8c-acaf-1b6338c1f503"
      },
      "source": [
        "v = np.array([1,2,3,2])\n",
        "w = np.array([4,5])\n",
        "#print(v*w) # Does not work due to size mismatch\n",
        "print(np.reshape(v, (4,1)) * w)\n",
        "\n",
        "print(v.shape)\n",
        "v = v.reshape(2,2)\n",
        "print(v, v.shape)"
      ],
      "execution_count": 17,
      "outputs": [
        {
          "output_type": "stream",
          "text": [
            "[[ 4  5]\n",
            " [ 8 10]\n",
            " [12 15]\n",
            " [ 8 10]]\n",
            "(4,)\n",
            "[[1 2]\n",
            " [3 2]] (2, 2)\n"
          ],
          "name": "stdout"
        }
      ]
    },
    {
      "cell_type": "code",
      "metadata": {
        "id": "54uGawJPILke"
      },
      "source": [
        "arr = np.array([[101,222], [32,34], [5,6]], dtype=np.float32)\n",
        "np.savetxt('myarr.txt', arr, delimiter=';')"
      ],
      "execution_count": null,
      "outputs": []
    },
    {
      "cell_type": "code",
      "metadata": {
        "id": "EW9xecUqIlNW"
      },
      "source": [
        "with open('myarr.txt', 'r') as f:\n",
        "    print(f.read())"
      ],
      "execution_count": null,
      "outputs": []
    },
    {
      "cell_type": "code",
      "metadata": {
        "id": "-TIYxsXqI0_c"
      },
      "source": [
        "r_arr = np.genfromtxt('myarr.txt', delimiter=';', skip_header=0)\n",
        "print(r_arr)"
      ],
      "execution_count": null,
      "outputs": []
    },
    {
      "cell_type": "markdown",
      "metadata": {
        "id": "4j3a5QruJW-a"
      },
      "source": [
        "#SciPy"
      ]
    },
    {
      "cell_type": "code",
      "metadata": {
        "id": "82HAkfEFJZIU"
      },
      "source": [
        "from scipy import stats\n",
        "dir(stats)"
      ],
      "execution_count": null,
      "outputs": []
    },
    {
      "cell_type": "code",
      "metadata": {
        "id": "GkT5vk0bZ_qH"
      },
      "source": [
        "help(dir)"
      ],
      "execution_count": null,
      "outputs": []
    },
    {
      "cell_type": "code",
      "metadata": {
        "id": "XhBPOcQ8ax87"
      },
      "source": [
        "import scipy as sp\n",
        "v = sp.randn(5)\n",
        "print(v, type(v))"
      ],
      "execution_count": null,
      "outputs": []
    },
    {
      "cell_type": "code",
      "metadata": {
        "id": "YEEi93w-a5yv"
      },
      "source": [
        "print(\"Mean = {}\\nMin = {}\\nVariance = {}\\nStDev = {}\".format(v.mean(),\n",
        "                                                              v.min(), \n",
        "                                                              v.var(), \n",
        "                                                              v.std()))"
      ],
      "execution_count": null,
      "outputs": []
    },
    {
      "cell_type": "code",
      "metadata": {
        "id": "C1PwXlfubYH4"
      },
      "source": [
        "from scipy import stats\n",
        "stats.describe(v)"
      ],
      "execution_count": null,
      "outputs": []
    },
    {
      "cell_type": "code",
      "metadata": {
        "id": "bWmhQov7b3U9"
      },
      "source": [
        "n,minmax,mean,var,skew,kurt = stats.describe(v)\n",
        "print(minmax)\n",
        "print(mean)\n",
        "print(var)\n",
        "print(skew)\n",
        "print(kurt)"
      ],
      "execution_count": null,
      "outputs": []
    },
    {
      "cell_type": "code",
      "metadata": {
        "id": "cVzRQnoxct_w"
      },
      "source": [
        "from scipy.stats import norm\n",
        "print (norm.ppf(0.5, loc=123.4))\n",
        "#help(norm.ppf)\n",
        "print(norm.ppf(0.95, loc=172.7815, scale=4.1532))\n"
      ],
      "execution_count": null,
      "outputs": []
    },
    {
      "cell_type": "code",
      "metadata": {
        "id": "aXrt_JJHf3Ja"
      },
      "source": [
        "a = np.array([[3, 2, 0], [1, -1, 0], [0, 5, 1]])\n",
        "b = np.array([2, 4, -1])\n",
        "from scipy import linalg\n",
        "x = linalg.solve(a, b)\n",
        "x"
      ],
      "execution_count": null,
      "outputs": []
    },
    {
      "cell_type": "code",
      "metadata": {
        "id": "Cg-KY0hn5nap"
      },
      "source": [
        "a = np.array([[3, 2, 0], [3, 3, 0], [0, 5, 1]])\n",
        "b = np.array([2, 2, -1])\n",
        "from scipy import linalg\n",
        "x = linalg.solve(a, b)\n",
        "x"
      ],
      "execution_count": null,
      "outputs": []
    },
    {
      "cell_type": "code",
      "metadata": {
        "id": "IH-kjKE75s4S"
      },
      "source": [
        "a = np.array([[3, 2, 0], [6, 4, 0], [0, 5, 1]])\n",
        "b = np.array([2, 4, -1])\n",
        "from scipy import linalg\n",
        "x = linalg.solve(a, b)\n",
        "x"
      ],
      "execution_count": null,
      "outputs": []
    },
    {
      "cell_type": "code",
      "metadata": {
        "id": "QGv86JJhB2sU"
      },
      "source": [
        "from scipy import misc\n",
        "import imageio\n",
        "import matplotlib.pyplot as plt\n",
        "f = misc.face()\n",
        "imageio.imwrite('image.png', f)\n",
        "plt.imshow(f)\n",
        "plt.show()"
      ],
      "execution_count": null,
      "outputs": []
    },
    {
      "cell_type": "code",
      "metadata": {
        "id": "SQxri5cUsFmB"
      },
      "source": [
        "from matplotlib import pyplot\n",
        "from pandas import read_csv\n",
        "from pandas.plotting import scatter_matrix\n",
        "filename = \"indians-diabetes.data\"\n",
        "names = ['preg', 'plas', 'pres', 'skin', 'test', 'mass', 'pedi', 'age', 'class']\n",
        "data = read_csv(filename, names=names)\n",
        "scatter_matrix(data)\n",
        "pyplot.show()\n"
      ],
      "execution_count": null,
      "outputs": []
    },
    {
      "cell_type": "markdown",
      "metadata": {
        "id": "mqc-7fpq6bdP"
      },
      "source": [
        "# Pandas"
      ]
    },
    {
      "cell_type": "code",
      "metadata": {
        "id": "MVAyJCYL6dVF"
      },
      "source": [
        "import pandas as pd"
      ],
      "execution_count": null,
      "outputs": []
    },
    {
      "cell_type": "code",
      "metadata": {
        "id": "hTQWh6XX6hU2"
      },
      "source": [
        "s = pd.Series([9,8,7,5], dtype=int)\n",
        "print(s)"
      ],
      "execution_count": null,
      "outputs": []
    },
    {
      "cell_type": "code",
      "metadata": {
        "id": "7ojnBNa86zGY"
      },
      "source": [
        "s2 = pd.Series(list('9876'))\n",
        "print(s2)\n",
        "print(s2[[0,3]])"
      ],
      "execution_count": null,
      "outputs": []
    },
    {
      "cell_type": "code",
      "metadata": {
        "id": "o-MrGGFI63sA"
      },
      "source": [
        "s = pd.Series([9,8,7,6], index=['#','$','%','^'])\n",
        "print(s)\n",
        "print(s[['^','$']])"
      ],
      "execution_count": null,
      "outputs": []
    },
    {
      "cell_type": "code",
      "metadata": {
        "id": "65blrbknwrUu"
      },
      "source": [
        "s = pd.Series(tuple('abcdef'))\n",
        "s"
      ],
      "execution_count": null,
      "outputs": []
    },
    {
      "cell_type": "code",
      "metadata": {
        "id": "oGWOiD5iyaAW"
      },
      "source": [
        "s = pd.Series([1,2,3,4,5], index=list(\"xyxxz\"))\n",
        "s"
      ],
      "execution_count": null,
      "outputs": []
    },
    {
      "cell_type": "code",
      "metadata": {
        "id": "gfOHLcoUyx1o"
      },
      "source": [
        "s['x']"
      ],
      "execution_count": null,
      "outputs": []
    },
    {
      "cell_type": "code",
      "metadata": {
        "id": "ZaOO8q6orc0y"
      },
      "source": [
        "s['w'] = 52\n",
        "s"
      ],
      "execution_count": null,
      "outputs": []
    },
    {
      "cell_type": "code",
      "metadata": {
        "id": "eCAJgB3Cy14l"
      },
      "source": [
        "s1 = pd.Series({1:1, 2:4, 4:16}, index=[1,2,3,4])\n",
        "s1"
      ],
      "execution_count": null,
      "outputs": []
    },
    {
      "cell_type": "code",
      "metadata": {
        "id": "VVksCfNJsVGO"
      },
      "source": [
        "s1[[2,3]]"
      ],
      "execution_count": null,
      "outputs": []
    },
    {
      "cell_type": "code",
      "metadata": {
        "id": "Oy2EdoS0zJAZ"
      },
      "source": [
        "s1*5"
      ],
      "execution_count": null,
      "outputs": []
    },
    {
      "cell_type": "code",
      "metadata": {
        "id": "q9tN9oUyzLlc"
      },
      "source": [
        "s1*s1"
      ],
      "execution_count": null,
      "outputs": []
    },
    {
      "cell_type": "code",
      "metadata": {
        "id": "1q0H-8arzUli"
      },
      "source": [
        "s1>5"
      ],
      "execution_count": null,
      "outputs": []
    },
    {
      "cell_type": "code",
      "metadata": {
        "id": "tRm1ONEsb7cf"
      },
      "source": [
        "data = {'country':['INDIA', 'USA', 'INDIA', 'USA'],\n",
        "        'Year':[2010,2011,2012,2013],\n",
        "        'Population':[20,28,32,38]}\n",
        "df = pd.DataFrame(data)\n",
        "df"
      ],
      "execution_count": null,
      "outputs": []
    },
    {
      "cell_type": "code",
      "metadata": {
        "id": "SDnecuqWc6Q9"
      },
      "source": [
        "df['GDP'] = [6.3, 5.7, 7.8, 5.5]\n",
        "df"
      ],
      "execution_count": null,
      "outputs": []
    },
    {
      "cell_type": "code",
      "metadata": {
        "id": "sT9EdmO6dOup"
      },
      "source": [
        "df['GDP'].sum()"
      ],
      "execution_count": null,
      "outputs": []
    },
    {
      "cell_type": "code",
      "metadata": {
        "id": "lIrmNc9kdR9O"
      },
      "source": [
        "df.Population.mean()"
      ],
      "execution_count": null,
      "outputs": []
    },
    {
      "cell_type": "code",
      "metadata": {
        "id": "hGzp9RoKdYQP"
      },
      "source": [
        "df.describe()"
      ],
      "execution_count": null,
      "outputs": []
    },
    {
      "cell_type": "code",
      "metadata": {
        "id": "Ou6GMvNAwPJd"
      },
      "source": [
        "s1.describe()"
      ],
      "execution_count": null,
      "outputs": []
    },
    {
      "cell_type": "code",
      "metadata": {
        "id": "2Gppnm0yeEAX"
      },
      "source": [
        "data = pd.read_csv('sample_data/california_housing_train.csv')\n",
        "data.describe()"
      ],
      "execution_count": null,
      "outputs": []
    },
    {
      "cell_type": "code",
      "metadata": {
        "id": "lyXNeDkXdRak"
      },
      "source": [
        "data"
      ],
      "execution_count": null,
      "outputs": []
    },
    {
      "cell_type": "code",
      "metadata": {
        "id": "sBCq53nCesu4"
      },
      "source": [
        "len(data)"
      ],
      "execution_count": null,
      "outputs": []
    },
    {
      "cell_type": "code",
      "metadata": {
        "id": "83e-QOcXfS4M"
      },
      "source": [
        "data.columns"
      ],
      "execution_count": null,
      "outputs": []
    },
    {
      "cell_type": "code",
      "metadata": {
        "id": "fcY0LTRxxfT0"
      },
      "source": [
        "data.head(10)"
      ],
      "execution_count": null,
      "outputs": []
    },
    {
      "cell_type": "code",
      "metadata": {
        "id": "taPB4LQtfZ6R"
      },
      "source": [
        "data['longitude']"
      ],
      "execution_count": null,
      "outputs": []
    },
    {
      "cell_type": "code",
      "metadata": {
        "id": "_MsX73bhfeOS"
      },
      "source": [
        "data.longitude.head(5)"
      ],
      "execution_count": null,
      "outputs": []
    },
    {
      "cell_type": "code",
      "metadata": {
        "id": "p4AMjzB2gTpJ"
      },
      "source": [
        "s1"
      ],
      "execution_count": null,
      "outputs": []
    },
    {
      "cell_type": "code",
      "metadata": {
        "id": "UBwJmJvfgVgV"
      },
      "source": [
        "s1.dropna()"
      ],
      "execution_count": null,
      "outputs": []
    },
    {
      "cell_type": "code",
      "metadata": {
        "id": "1Qg9TLTggXxN"
      },
      "source": [
        "s1"
      ],
      "execution_count": null,
      "outputs": []
    },
    {
      "cell_type": "code",
      "metadata": {
        "id": "5CteqJZtgbvs"
      },
      "source": [
        "s2 = s1 > 4\n",
        "s2"
      ],
      "execution_count": null,
      "outputs": []
    },
    {
      "cell_type": "code",
      "metadata": {
        "id": "UAvBy8VjgkMZ"
      },
      "source": [
        "s2.duplicated()"
      ],
      "execution_count": null,
      "outputs": []
    },
    {
      "cell_type": "code",
      "metadata": {
        "id": "whP7yYVFz3C-"
      },
      "source": [
        "s10 = pd.Series([0,1,1,2,2,3,4,5,5,6])\n",
        "s10"
      ],
      "execution_count": null,
      "outputs": []
    },
    {
      "cell_type": "code",
      "metadata": {
        "id": "0o5B1PTKz_MI"
      },
      "source": [
        "s10.duplicated()"
      ],
      "execution_count": null,
      "outputs": []
    },
    {
      "cell_type": "code",
      "metadata": {
        "id": "NQOU9dKZgoyh"
      },
      "source": [
        "s10.drop_duplicates()"
      ],
      "execution_count": null,
      "outputs": []
    },
    {
      "cell_type": "code",
      "metadata": {
        "id": "OP9WYWdGgy7V"
      },
      "source": [
        "print(s1)\n",
        "s3 = s1.fillna(112233)\n",
        "s3"
      ],
      "execution_count": null,
      "outputs": []
    },
    {
      "cell_type": "code",
      "metadata": {
        "id": "_yRjQwoig5j8"
      },
      "source": [
        "pd.isnull(s1)"
      ],
      "execution_count": null,
      "outputs": []
    },
    {
      "cell_type": "code",
      "metadata": {
        "id": "rSrJTWYRg8gp"
      },
      "source": [
        "pd.isnull(s3)"
      ],
      "execution_count": null,
      "outputs": []
    },
    {
      "cell_type": "code",
      "metadata": {
        "id": "XcsWNskyhJJi"
      },
      "source": [
        "print('S1 = ', s1)\n",
        "print('S2 = ', s2)"
      ],
      "execution_count": null,
      "outputs": []
    },
    {
      "cell_type": "code",
      "metadata": {
        "id": "Ce9GeIZWhBEr"
      },
      "source": [
        "s4 = pd.concat([s1,s2])\n",
        "s4"
      ],
      "execution_count": null,
      "outputs": []
    },
    {
      "cell_type": "code",
      "metadata": {
        "id": "Hfo1WpwNhouH"
      },
      "source": [
        "s5 = pd.concat([s1,s2], axis=1)\n",
        "print(type(s1), type(s5))\n",
        "s5"
      ],
      "execution_count": null,
      "outputs": []
    },
    {
      "cell_type": "markdown",
      "metadata": {
        "id": "_DgPair7i561"
      },
      "source": [
        "# Matplotlib"
      ]
    },
    {
      "cell_type": "code",
      "metadata": {
        "id": "DpuxLFjLi83Q"
      },
      "source": [
        "import matplotlib.pyplot as plt\n",
        "import numpy as np\n"
      ],
      "execution_count": null,
      "outputs": []
    },
    {
      "cell_type": "code",
      "metadata": {
        "id": "VODfugNFjDJI"
      },
      "source": [
        "a = np.array(range(11))\n",
        "plt.plot(a)\n",
        "plt.xlabel('MyX')\n",
        "plt.ylabel('MyY')\n",
        "plt.show()"
      ],
      "execution_count": null,
      "outputs": []
    },
    {
      "cell_type": "code",
      "metadata": {
        "id": "eqfmY7uBjdhX"
      },
      "source": [
        "x = np.array(range(10))\n",
        "y = np.array(range(0,20,2))\n",
        "plt.plot(x,y)"
      ],
      "execution_count": null,
      "outputs": []
    },
    {
      "cell_type": "code",
      "metadata": {
        "id": "w4zJ4kdFRqT8"
      },
      "source": [
        "u, a = 0, 0\n",
        "def dist(t):\n",
        "    return u*t + 0.5*a*t*t\n",
        "\n",
        "u, a = 5, 25\n",
        "T = np.arange(-5.0, 5.1, 0.1)\n",
        "plt.plot(T, dist(T))\n",
        "plt.xlabel('time')\n",
        "plt.ylabel('distance')\n",
        "plt.show()"
      ],
      "execution_count": null,
      "outputs": []
    },
    {
      "cell_type": "code",
      "metadata": {
        "id": "vxSnuWBMcZsj"
      },
      "source": [
        "# Univariate Histograms\n",
        "from matplotlib import pyplot\n",
        "from pandas import read_csv\n",
        "filename = 'sample_data/pima-indians-diabetes.csv'\n",
        "mynames = ['preg', 'plas', 'pres', 'skin', 'test', 'mass', 'pedi', 'age', 'class']\n",
        "data = read_csv(filename, names=mynames)\n",
        "data.hist()\n",
        "pyplot.show()\n"
      ],
      "execution_count": null,
      "outputs": []
    },
    {
      "cell_type": "code",
      "metadata": {
        "id": "251Qz2CudqvZ"
      },
      "source": [
        "# Univariate Density Plots\n",
        "from matplotlib import pyplot\n",
        "from pandas import read_csv\n",
        "filename = 'sample_data/pima-indians-diabetes.csv'\n",
        "names = ['preg', 'plas', 'pres', 'skin', 'test', 'mass', 'pedi', 'age', 'class']\n",
        "data = read_csv(filename, names=names)\n",
        "data.plot(kind='density', subplots=True, layout=(3,3), sharex=False)\n",
        "pyplot.show()\n"
      ],
      "execution_count": null,
      "outputs": []
    },
    {
      "cell_type": "code",
      "metadata": {
        "id": "_ognjBojd-2X"
      },
      "source": [
        "from matplotlib import pyplot\n",
        "from pandas import read_csv\n",
        "filename = 'sample_data/pima-indians-diabetes.csv'\n",
        "names = ['preg', 'plas', 'pres', 'skin', 'test', 'mass', 'pedi', 'age', 'class']\n",
        "data = read_csv(filename, names=names)\n",
        "data.plot(kind='box', subplots=True, layout=(3,3), sharex=False, sharey=False)\n",
        "pyplot.show()\n"
      ],
      "execution_count": null,
      "outputs": []
    },
    {
      "cell_type": "code",
      "metadata": {
        "id": "G-YS-fl9eRYE"
      },
      "source": [
        "from matplotlib import pyplot\n",
        "from pandas import read_csv\n",
        "import numpy\n",
        "filename = 'sample_data/pima-indians-diabetes.csv'\n",
        "names = ['preg', 'plas', 'pres', 'skin', 'test', 'mass', 'pedi', 'age', 'class']\n",
        "data = read_csv(filename, names=names)\n",
        "correlations = data.corr()\n",
        "# plot correlation matrix\n",
        "fig = pyplot.figure()\n",
        "ax = fig.add_subplot(111)\n",
        "cax = ax.matshow(correlations, vmin=-1, vmax=1)\n",
        "fig.colorbar(cax)\n",
        "ticks = numpy.arange(0,9,1)\n",
        "ax.set_xticks(ticks)\n",
        "ax.set_yticks(ticks)\n",
        "ax.set_xticklabels(names)\n",
        "ax.set_yticklabels(names)\n",
        "pyplot.show()\n"
      ],
      "execution_count": null,
      "outputs": []
    },
    {
      "cell_type": "code",
      "metadata": {
        "id": "RUp5xMNCeakJ"
      },
      "source": [
        "from matplotlib import pyplot\n",
        "from pandas import read_csv\n",
        "from pandas.plotting import scatter_matrix\n",
        "filename = 'sample_data/pima-indians-diabetes.csv'\n",
        "names = ['preg', 'plas', 'pres', 'skin', 'test', 'mass', 'pedi', 'age', 'class']\n",
        "data = read_csv(filename, names=names)\n",
        "scatter_matrix(data)\n",
        "pyplot.show()\n"
      ],
      "execution_count": null,
      "outputs": []
    }
  ]
}